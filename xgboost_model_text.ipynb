{
 "cells": [
  {
   "attachments": {},
   "cell_type": "markdown",
   "metadata": {},
   "source": [
    "## Text Classification for IMDB Movie Reviews\n",
    "### Uses XGBoost on TF-IDF vector of the data\n",
    "#### Steps:\n",
    "1. Load Train and Test Data\n",
    "2. Create TF-IDF Matrices. Includes Fitting a count vectorizer and a tfidf vectorizer\n",
    "3. Fit XGB Classifier\n",
    "4. Evaluate Model Performance\n",
    "5. Log Model Outcome"
   ]
  },
  {
   "attachments": {},
   "cell_type": "markdown",
   "metadata": {},
   "source": [
    "### Load Data"
   ]
  },
  {
   "cell_type": "code",
   "execution_count": null,
   "metadata": {},
   "outputs": [],
   "source": [
    "from datasets import load_dataset\n",
    "\n",
    "imdb_train = load_dataset(\"imdb\", split=\"train\")\n",
    "imdb_test = load_dataset(\"imdb\", split=\"test\")"
   ]
  },
  {
   "attachments": {},
   "cell_type": "markdown",
   "metadata": {},
   "source": [
    "#### Create TF-IDF Train and Test Values"
   ]
  },
  {
   "cell_type": "code",
   "execution_count": null,
   "metadata": {},
   "outputs": [],
   "source": [
    "from sklearn.feature_extraction.text import CountVectorizer, TfidfTransformer\n",
    "count_vect = CountVectorizer()\n",
    "tfidf_transformer = TfidfTransformer()\n",
    "\n",
    "# Fit the countvectorizer\n",
    "count_vect.fit(imdb_train['text'])\n",
    "\n",
    "# Apply the count fit\n",
    "X_train_counts = count_vect.transform(imdb_train['text'])\n",
    "X_test_counts = count_vect.transform(imdb_test['text'])\n",
    "\n",
    "# Fit the tfidf transformer\n",
    "tfidf_transformer.fit(X_train_counts)\n",
    "\n",
    "# Apply the fit to the train/test\n",
    "X_train_tfidf = tfidf_transformer.transform(X_train_counts)\n",
    "X_test_tfidf = tfidf_transformer.transform(X_test_counts)"
   ]
  },
  {
   "attachments": {},
   "cell_type": "markdown",
   "metadata": {},
   "source": [
    "#### Fit XGB on TF-IDF"
   ]
  },
  {
   "cell_type": "code",
   "execution_count": null,
   "metadata": {},
   "outputs": [],
   "source": [
    "from xgboost import XGBClassifier\n",
    "\n",
    "# create model instance\n",
    "bst = XGBClassifier(n_estimators=5, max_depth=8, learning_rate=1, objective='binary:logistic')\n",
    "\n",
    "# fit model\n",
    "bst.fit(X_train_tfidf, imdb_train['label'])"
   ]
  },
  {
   "attachments": {},
   "cell_type": "markdown",
   "metadata": {},
   "source": [
    "#### Compute Model Performance"
   ]
  },
  {
   "cell_type": "code",
   "execution_count": null,
   "metadata": {},
   "outputs": [],
   "source": [
    "from sklearn.metrics import accuracy_score, f1_score, precision_score, recall_score, roc_auc_score\n",
    "# make predictions for test data\n",
    "y_test_prob = [x[1] for x in bst.predict_proba(X_test_tfidf)]\n",
    "threshold = 0.5\n",
    "y_test_pred = [value >= threshold for value in y_test_prob]"
   ]
  },
  {
   "attachments": {},
   "cell_type": "markdown",
   "metadata": {},
   "source": [
    "#### Evaluate Model Performance"
   ]
  },
  {
   "cell_type": "code",
   "execution_count": null,
   "metadata": {},
   "outputs": [],
   "source": [
    "def get_sklearn_metrics(y_test, predictions, probabilities):\n",
    "    mp = {}\n",
    "    mp['accuracy'] = accuracy_score(y_test, predictions)\n",
    "    mp['f1'] = f1_score(y_test, predictions)\n",
    "    mp['precision'] = precision_score(y_test, predictions)\n",
    "    mp['recall'] = recall_score(y_test, predictions)\n",
    "    mp['roc_auc'] = roc_auc_score(y_test, probabilities)\n",
    "    print(mp)\n",
    "    return mp\n",
    "model_performance = get_sklearn_metrics(imdb_test['label'], y_test_pred, y_test_prob)"
   ]
  },
  {
   "cell_type": "code",
   "execution_count": null,
   "metadata": {},
   "outputs": [],
   "source": [
    "import matplotlib.pyplot as plt\n",
    "from sklearn.metrics import RocCurveDisplay\n",
    "RocCurveDisplay.from_predictions(imdb_test['label'], y_test_prob)\n",
    "\n",
    "plt.show()"
   ]
  },
  {
   "attachments": {},
   "cell_type": "markdown",
   "metadata": {},
   "source": [
    "### Log Model Outcome"
   ]
  },
  {
   "cell_type": "code",
   "execution_count": null,
   "metadata": {},
   "outputs": [],
   "source": [
    "from datetime import datetime\n",
    "def log_model(model, user: str, model_type: str, data_transform: str, model_params: dict, model_perf: dict, y_test_prob, y_test_pred):\n",
    "    # Save model file\n",
    "    if type(model) == 'xgboost.sklearn.XGBClassifier':\n",
    "        model.save_model(f'{model_type}__{user}_{str(datetime.now())}.json')\n",
    "        \n",
    "    # Create model dictionary\n",
    "    model_record = {'model_type':model_type, 'data_transform':data_transform, 'model_params':model_params, 'model_perf':model_perf}\n",
    "    \n",
    "    # Append to model logs from somewhere\n",
    "    \n",
    "    # Save model predictions somewhere\n",
    "    \n",
    "    \n",
    "log_model(bst, 'user1', 'xgboost', 'tfidf', bst.get_params(), model_performance, y_test_prob, y_test_pred)"
   ]
  },
  {
   "attachments": {},
   "cell_type": "markdown",
   "metadata": {},
   "source": [
    "### Analyze Feature Importance"
   ]
  },
  {
   "cell_type": "code",
   "execution_count": null,
   "metadata": {},
   "outputs": [],
   "source": [
    "sorted_idx = bst.feature_importances_.argsort()\n",
    "sorted_idx"
   ]
  },
  {
   "cell_type": "code",
   "execution_count": null,
   "metadata": {},
   "outputs": [],
   "source": [
    "count_vect.get_feature_names_out()"
   ]
  },
  {
   "cell_type": "code",
   "execution_count": null,
   "metadata": {},
   "outputs": [],
   "source": [
    "plt.barh(count_vect.get_feature_names_out()[sorted_idx[:25]], bst.feature_importances_[sorted_idx[:25]])"
   ]
  },
  {
   "attachments": {},
   "cell_type": "markdown",
   "metadata": {},
   "source": [
    "#### Use Shapely Values to Estimate Feature Importance"
   ]
  },
  {
   "cell_type": "code",
   "execution_count": null,
   "metadata": {},
   "outputs": [],
   "source": [
    "import shap"
   ]
  },
  {
   "cell_type": "code",
   "execution_count": null,
   "metadata": {},
   "outputs": [],
   "source": [
    "explainer = shap.TreeExplainer(bst)\n",
    "shap_values = explainer.shap_values(X_test_tfidf)"
   ]
  },
  {
   "cell_type": "code",
   "execution_count": null,
   "metadata": {},
   "outputs": [],
   "source": [
    "shap.summary_plot(shap_values, X_test_counts, plot_type=\"bar\")"
   ]
  },
  {
   "cell_type": "code",
   "execution_count": null,
   "metadata": {},
   "outputs": [],
   "source": []
  }
 ],
 "metadata": {
  "kernelspec": {
   "display_name": "tc3",
   "language": "python",
   "name": "python3"
  },
  "language_info": {
   "codemirror_mode": {
    "name": "ipython",
    "version": 3
   },
   "file_extension": ".py",
   "mimetype": "text/x-python",
   "name": "python",
   "nbconvert_exporter": "python",
   "pygments_lexer": "ipython3",
   "version": "3.10.8 | packaged by conda-forge | (main, Nov 22 2022, 08:27:35) [Clang 14.0.6 ]"
  },
  "orig_nbformat": 4,
  "vscode": {
   "interpreter": {
    "hash": "15a69121304c81708e57ed6b9cd6089cd41f5d1e2d82e2065d4c8d1306129b18"
   }
  }
 },
 "nbformat": 4,
 "nbformat_minor": 2
}
